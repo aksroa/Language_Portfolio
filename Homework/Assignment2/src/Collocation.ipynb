{
 "cells": [
  {
   "cell_type": "code",
   "execution_count": 3,
   "metadata": {},
   "outputs": [],
   "source": [
    "# Import necessary libraries\n",
    "import os\n",
    "import re\n",
    "import string\n",
    "import numpy as np\n",
    "from os import listdir\n",
    "from pathlib import Path\n",
    "import pandas as pd\n",
    "from collections import Counter"
   ]
  },
  {
   "cell_type": "code",
   "execution_count": 4,
   "metadata": {},
   "outputs": [
    {
     "data": {
      "text/plain": [
       "'/home/cds-au579253/cds-language/Homework/Assignment2/src'"
      ]
     },
     "execution_count": 4,
     "metadata": {},
     "output_type": "execute_result"
    }
   ],
   "source": [
    "os.getcwd()"
   ]
  },
  {
   "cell_type": "code",
   "execution_count": 5,
   "metadata": {},
   "outputs": [],
   "source": [
    "# Defining the function for calculating MI\n",
    "def collocate_function(filepath, keyword, window_size):\n",
    "    \n",
    "    all_texts = []\n",
    "    \n",
    "    # Loading files from directory\n",
    "    for filename in Path(filepath).glob(\"*.txt\"):\n",
    "        with open(filename, \"r\", encoding=\"utf-8\") as file:\n",
    "            text = file.read()\n",
    "            all_texts.append(text)\n",
    "\n",
    "    corpus = \" \".join(all_texts)\n",
    "#tokenizing - splitting by whitespaces\n",
    "    tokenized = [token for token in corpus.split()] \n",
    "#returns number of time each element, i.e. collocate, appears in list\n",
    "    counter_object = Counter(tokenized)       \n",
    "\n",
    "    u = counter_object.get(keyword)\n",
    "\n",
    "    collocates = []\n",
    "# Removing all punctuation    \n",
    "    corpus = re.sub(r\"\\W+\", \" \", corpus) \n",
    "# Turning everything to lowercase    \n",
    "    corpus = corpus.lower() \n",
    "    for word_n in range(len(tokenized)):\n",
    "\n",
    "        if tokenized[word_n] == keyword:\n",
    "\n",
    "            index_value = word_n\n",
    "#2 words on left side\n",
    "            left_window = max(0, index_value - window_size) \n",
    "#2 words on right side    \n",
    "            right_window = index_value + window_size + 1 \n",
    "\n",
    "            window_list = tokenized[left_window : right_window]\n",
    "\n",
    "            for word in window_list:\n",
    "                if word == keyword:\n",
    "                    pass\n",
    "                else:\n",
    "                    collocates.append(word) #save word             \n",
    "#extracting collocates from dictionary to a list\n",
    "    collocate = [x for x in Counter(collocates).keys()] \n",
    "#n times collocate  \n",
    "    O11 = [x for x in Counter(collocates).values()] \n",
    "    O12 = [x1 - x2 for (x1, x2) in zip(([u] * len(O11)), O11)]\n",
    "\n",
    "    R1 = [x1 + x2 for (x1, x2) in zip(O11, O12)]\n",
    "#raw frequency\n",
    "    C1 = [counter_object.get(w) for w in collocate] \n",
    "\n",
    "\n",
    "    # length of text\n",
    "    N = len(tokenized)\n",
    "\n",
    "    # Expected\n",
    "    E11 = [x1 * x2 for (x1, x2) in zip(R1, C1)]\n",
    "    E11 = [x1 / x2 for (x1, x2) in zip(E11, ([N]*len(E11)))]\n",
    "\n",
    "    # return MI\n",
    "    MI = [np.log(x1/x2) for (x1, x2) in zip(O11, E11)]\n",
    "    \n",
    "    # Adding \"collocate\", \"raw_frequency\" and \"MI\" to the dataframe\n",
    "    df = pd.DataFrame()\n",
    "    df[\"collocate\"] = collocate\n",
    "    df[\"raw_frequency\"] = C1\n",
    "    df[\"MI\"] = MI\n",
    "    \n",
    "    return df"
   ]
  },
  {
   "cell_type": "code",
   "execution_count": 10,
   "metadata": {},
   "outputs": [],
   "source": [
    "# Defining the main function\n",
    "def main():\n",
    "    # The collocate-function is used with the keyword \"doctor\" and windowsize: 5\n",
    "    df = collocate_function(filepath = os.path.join(\"..\", \"..\", \"Assignment1\", \"data\", \"corpus\"), \n",
    "                       keyword = \"doctor\", \n",
    "                       window_size = 5)\n",
    "    \n",
    "    # Saving the file in (Out/collocates.csv)\n",
    "    outpath = os.path.join(\"..\", \"Output\", \"collocate.csv\")\n",
    "    df.to_csv(outpath)"
   ]
  },
  {
   "cell_type": "code",
   "execution_count": 11,
   "metadata": {},
   "outputs": [],
   "source": [
    "# Define behaviour when called from command line\n",
    "if __name__==\"__main__\":\n",
    "    main()"
   ]
  },
  {
   "cell_type": "code",
   "execution_count": null,
   "metadata": {},
   "outputs": [],
   "source": []
  }
 ],
 "metadata": {
  "kernelspec": {
   "display_name": "sentiment_environment",
   "language": "python",
   "name": "sentiment_environment"
  },
  "language_info": {
   "codemirror_mode": {
    "name": "ipython",
    "version": 3
   },
   "file_extension": ".py",
   "mimetype": "text/x-python",
   "name": "python",
   "nbconvert_exporter": "python",
   "pygments_lexer": "ipython3",
   "version": "3.6.9"
  }
 },
 "nbformat": 4,
 "nbformat_minor": 4
}
