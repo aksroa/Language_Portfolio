{
 "cells": [
  {
   "cell_type": "code",
   "execution_count": 4,
   "metadata": {},
   "outputs": [],
   "source": [
    "# Importing all the necessary modules\n",
    "import os\n",
    "import argparse\n",
    "import sys\n",
    "\n",
    "# Data analysis\n",
    "import pandas as pd\n",
    "from collections import Counter\n",
    "from itertools import combinations\n",
    "from tqdm import tqdm\n",
    "\n",
    "# Drawing\n",
    "import networkx as nx\n",
    "import matplotlib.pyplot as plt\n",
    "\n",
    "# Initialize spacy\n",
    "import spacy\n",
    "nlp = spacy.load(\"en_core_web_sm\")"
   ]
  },
  {
   "cell_type": "code",
   "execution_count": 5,
   "metadata": {},
   "outputs": [],
   "source": [
    "def network_analysis(edgelist, n, save):\n",
    "    # Load in the edgelist\n",
    "    weighted_edgelist = pd.read_csv(edgelist, index_col = 0)\n",
    "\n",
    "    # Get only the \"n\" strongest connections\n",
    "    weighted_edgelist = weighted_edgelist.sort_values(by=['weight'], ascending = False, na_position='last').iloc[0:n,:]\n",
    "\n",
    "    # Create a graph from the edgelist\n",
    "    G = nx.from_pandas_edgelist(weighted_edgelist, 'nodeA', 'nodeB', [\"weight\"])\n",
    "\n",
    "    # Plot\n",
    "    nx.draw_shell(G, with_labels = True, font_weight= 'bold') \n",
    "\n",
    "    # Calc centrality measures\n",
    "    ev = pd.DataFrame(nx.eigenvector_centrality(G).items(), columns=['node', 'eigenvector_centrality'])\n",
    "    bc = pd.DataFrame(nx.betweenness_centrality(G).items(), columns=['node', 'betweenness_centrality'])\n",
    "    dg = pd.DataFrame(nx.degree_centrality(G).items(), columns=['node', 'degree_centrality'])\n",
    "\n",
    "    # Make into a df\n",
    "    ev = ev.merge(bc, on = \"node\")\n",
    "    centrality_measures = ev.merge(dg, on = \"node\")\n",
    "\n",
    "    # Save plot and df of centrality measures\n",
    "    if save == True:\n",
    "        # Save the centrality measures in the folder \"output\" (and create the folder if it doesn't already exist)\n",
    "        output_folder = os.path.join(\"..\", \"output\")\n",
    "        if not os.path.exists(output_folder):\n",
    "            os.makedirs(output_folder)\n",
    "        output_path = os.path.join(output_folder, \"centrality_measures.csv\")\n",
    "        centrality_measures.to_csv(output_path)\n",
    "\n",
    "        # Save the plot in the folder \"viz\"  (and create the folder if it doesn't already exist)\n",
    "        viz_folder = os.path.join(\"viz\")\n",
    "        if not os.path.exists(viz_folder):\n",
    "            os.makedirs(viz_folder)\n",
    "        viz_plot = os.path.join(viz_folder, \"network_viz.png\")\n",
    "        plt.savefig(viz_plot, dpi=300, bbox_inches=\"tight\")\n",
    "\n",
    "        print(f\"A new visualization of the network has been created\")"
   ]
  },
  {
   "cell_type": "code",
   "execution_count": 6,
   "metadata": {},
   "outputs": [
    {
     "name": "stderr",
     "output_type": "stream",
     "text": [
      "usage: ipykernel_launcher.py [-h] [-e EDGELIST] [-n NODES]\n",
      "ipykernel_launcher.py: error: unrecognized arguments: -f /home/cds-au579253/.local/share/jupyter/runtime/kernel-4bac5927-7ca8-4456-8bf2-9a687d6888cc.json\n"
     ]
    },
    {
     "ename": "SystemExit",
     "evalue": "2",
     "output_type": "error",
     "traceback": [
      "An exception has occurred, use %tb to see the full traceback.\n",
      "\u001b[0;31mSystemExit\u001b[0m\u001b[0;31m:\u001b[0m 2\n"
     ]
    }
   ],
   "source": [
    "if __name__==\"__main__\":\n",
    "    # Initialize parser\n",
    "    parser = argparse.ArgumentParser(\n",
    "        description = \"Generates visualization of network, as well as calculates centrality measures for nodes\") \n",
    "\n",
    "    # Add parser arguments\n",
    "    parser.add_argument(\n",
    "        \"-e\",\n",
    "        \"--edgelist\", \n",
    "        type = str,\n",
    "        default = os.path.join(\"..\",\"Data\",\"weighted_edgelist.csv\"), # This is the default dataset\n",
    "        required = False, # This argument is not required since we have a default dataset\n",
    "        help = \"path to edgelist file\")\n",
    "\n",
    "    parser.add_argument(\n",
    "        \"-n\",\n",
    "        \"--nodes\", \n",
    "        type = int,\n",
    "        default = 30, # This is the default number of nodes\n",
    "        required = False, # This argument is not required since we have a default value\n",
    "        help = \"int specifying number of nodes and edge pairs\")\n",
    "    args = parser.parse_args()\n",
    "\n",
    "    parser.add_argument(\n",
    "        \"-s\",\n",
    "        \"--save\", \n",
    "        type = bool,\n",
    "        default = True, # Default when not specifying \n",
    "        required = False, # This argument is not required either.\n",
    "        help = \"bool specifying whether to save visualization and centrality measures\")\n",
    "\n",
    "    args = parser.parse_args()\n",
    "\n",
    "    # Running the main function:\n",
    "    network_analysis(args.edgelist, args.n, args.save)"
   ]
  },
  {
   "cell_type": "code",
   "execution_count": null,
   "metadata": {},
   "outputs": [],
   "source": []
  },
  {
   "cell_type": "code",
   "execution_count": null,
   "metadata": {},
   "outputs": [],
   "source": []
  }
 ],
 "metadata": {
  "kernelspec": {
   "display_name": "sentiment_environment",
   "language": "python",
   "name": "sentiment_environment"
  },
  "language_info": {
   "codemirror_mode": {
    "name": "ipython",
    "version": 3
   },
   "file_extension": ".py",
   "mimetype": "text/x-python",
   "name": "python",
   "nbconvert_exporter": "python",
   "pygments_lexer": "ipython3",
   "version": "3.6.9"
  }
 },
 "nbformat": 4,
 "nbformat_minor": 4
}
