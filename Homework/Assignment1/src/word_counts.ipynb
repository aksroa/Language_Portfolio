{
 "cells": [
  {
   "cell_type": "code",
   "execution_count": 35,
   "metadata": {},
   "outputs": [],
   "source": [
    "#Importing the packages\n",
    "import os\n",
    "from pathlib import Path\n",
    "import pandas as pd"
   ]
  },
  {
   "cell_type": "code",
   "execution_count": 36,
   "metadata": {},
   "outputs": [],
   "source": [
    "#Creating the path to the novels\n",
    "path = os.path.join(\"..\",\"data\", \"corpus\")\n",
    "path_length = len(data_path)"
   ]
  },
  {
   "cell_type": "code",
   "execution_count": 37,
   "metadata": {},
   "outputs": [],
   "source": [
    "#Making a dataframe including filename, the number of total words and the number of unique words\n",
    "Columns = ['filename','total_words','unique_words']           \n",
    "Word_count_df = pd.DataFrame(columns = Columns)"
   ]
  },
  {
   "cell_type": "code",
   "execution_count": 38,
   "metadata": {},
   "outputs": [],
   "source": [
    "#Looping over all the files in the path, extracting the information\n",
    "for filename in Path(path).glob(\"*.txt\"):\n",
    "#Reading the file    \n",
    "    with open(filename, \"r\", encoding=\"utf-8\") as file:\n",
    "        lenght_text = file.read()\n",
    "# Isolate the filename\n",
    "        only_filename = str(filename)\n",
    "        only_filename = only_filename[path_length + 1:]\n",
    "        \n",
    "#Caclulating the total words\n",
    "        split_text = lenght_text.split()\n",
    "        total_words = (len(split_text))\n",
    "        #Total unique words\n",
    "        split_text_set= set(split_text)\n",
    "        unique_words = len(set(split_text_set))\n",
    "        \n",
    "#Adding filename, total words and unique words to the predefined dataframe.\n",
    "        Word_count_df = Word_count_df.append({\n",
    "            'filename': only_filename,\n",
    "            'total_words': total_words,\n",
    "            'unique_words': unique_words,\n",
    "            }, ignore_index=True)\n",
    "        "
   ]
  },
  {
   "cell_type": "code",
   "execution_count": 39,
   "metadata": {},
   "outputs": [],
   "source": [
    "# Save the results as a csv file\n",
    "Word_count_df.to_csv(\"Word_counts_results1.csv\")"
   ]
  },
  {
   "cell_type": "code",
   "execution_count": null,
   "metadata": {},
   "outputs": [],
   "source": []
  }
 ],
 "metadata": {
  "kernelspec": {
   "display_name": "lang101",
   "language": "python",
   "name": "lang101"
  },
  "language_info": {
   "codemirror_mode": {
    "name": "ipython",
    "version": 3
   },
   "file_extension": ".py",
   "mimetype": "text/x-python",
   "name": "python",
   "nbconvert_exporter": "python",
   "pygments_lexer": "ipython3",
   "version": "3.6.9"
  }
 },
 "nbformat": 4,
 "nbformat_minor": 4
}
